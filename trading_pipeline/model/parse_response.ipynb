{
 "cells": [
  {
   "cell_type": "code",
   "execution_count": 2,
   "metadata": {},
   "outputs": [],
   "source": [
    "import re"
   ]
  },
  {
   "cell_type": "code",
   "execution_count": null,
   "metadata": {},
   "outputs": [],
   "source": [
    "def parse_model_response(response_text: str) -> dict:\n",
    "    \"\"\"\n",
    "    Extracts allocation scores for 5 tokens from LLM-generated text.\n",
    "\n",
    "    Args: \n",
    "        response_text\n",
    "    \n",
    "    Returns: \n",
    "        A DICTIONARY with allocation scores for each token.\n",
    "        e.g. {\"BTC\": 0.6, \"ETH\": -0.2, \"SOL\": 0.0, \"DOGE\": 0.1, \"USDT\": -0.5}\n",
    "        Any missing asset will default to 0.0 (neutral signal).\n",
    "    \"\"\"\n",
    "    assets = [\"BTC\", \"ETH\", \"SOL\", \"DOGE\", \"USDT\"]\n",
    "    scores = {}\n",
    "\n",
    "    # Regex pattern: Matches lines like \"BTC: +0.5\" or \"DOGE : -0.3\" or \"ETH:+1.0\"\n",
    "    pattern = r\"(\\bBTC|\\bETH|\\bSOL|\\bDOGE|\\bUSDT)\\s*:\\s*([-+]?[0-9]+(?:\\.[0-9]+)?)\"\n",
    "\n",
    "    matches = re.findall(pattern, response_text)  # 返回的是list of tuples: e.g. [('BTC', '+0.8'), ('ETH', '-0.1'), ('DOGE', '0.0')]...\n",
    "\n",
    "    for asset, score_str in matches:\n",
    "        try:\n",
    "            scores[asset] = float(score_str)\n",
    "        except ValueError:\n",
    "            continue\n",
    "    \n",
    "    # Fill in 0.0 for any asset not mentioned in the response\n",
    "    for asset in assets:\n",
    "        if asset not in scores:\n",
    "            scores[asset] = 0.0\n",
    "    \n",
    "    return scores"
   ]
  },
  {
   "cell_type": "code",
   "execution_count": null,
   "metadata": {},
   "outputs": [
    {
     "name": "stdout",
     "output_type": "stream",
     "text": [
      "{'BTC': 0.8, 'ETH': 0.3, 'SOL': 0.6, 'DOGE': 0.5, 'USDT': -0.5}\n"
     ]
    }
   ],
   "source": [
    "# Testing\n",
    "response_test = \"\"\"\n",
    "### Market Summary\n",
    "\n",
    "The current market sentiment is characterized by heightened volatility due to political developments, particularly the U.S. presidential election. Bitcoin and Dogecoin have shown strong upward momentum, driven by optimism surrounding potential pro-crypto policies and endorsements. Solana has also rallied alongside Bitcoin, with analysts predicting further gains if support levels hold. Ethereum, however, is lagging behind, with decreased institutional interest but some renewed demand for leveraged ETFs post-election. Tether has expanded its supply significantly, reflecting its continued role as a liquidity anchor amidst market fluctuations.\n",
    "\n",
    "### Allocation Scores (Hourly Trading Signal)\n",
    "\n",
    "BTC: +0.8 — Despite recent volatility, Bitcoin's strong rally and potential for pro-crypto policies make it an attractive asset. The news of a significant price surge and investor optimism supports a positive allocation.\n",
    "\n",
    "ETH: +0.3 — While Ethereum is lagging, the increased demand for leveraged ETFs post-election suggests potential for future price appreciation. However, it remains less attractive compared to BTC and SOL.\n",
    "\n",
    "SOL: +0.6 — Solana's rally alongside Bitcoin and the potential to retest previous highs indicate bullish momentum. The positive sentiment and technical outlook justify a favorable allocation.\n",
    "\n",
    "DOGE: +0.5 — Dogecoin's resilience and recent surge, driven by endorsements and election optimism, suggest potential for further gains. The market's enthusiasm supports a moderate positive allocation.\n",
    "\n",
    "USDT: -0.5 — With the market showing signs of bullish sentiment and capital rotation into riskier assets, reducing exposure to USDT is warranted to capitalize on potential gains in other cryptocurrencies.\n",
    "\"\"\"\n",
    "\n",
    "# Parse and print result\n",
    "scores_test = parse_model_response(response_test)\n",
    "print(scores_test)    # ✅"
   ]
  },
  {
   "cell_type": "code",
   "execution_count": null,
   "metadata": {},
   "outputs": [],
   "source": []
  }
 ],
 "metadata": {
  "kernelspec": {
   "display_name": "base",
   "language": "python",
   "name": "python3"
  },
  "language_info": {
   "codemirror_mode": {
    "name": "ipython",
    "version": 3
   },
   "file_extension": ".py",
   "mimetype": "text/x-python",
   "name": "python",
   "nbconvert_exporter": "python",
   "pygments_lexer": "ipython3",
   "version": "3.9.18"
  }
 },
 "nbformat": 4,
 "nbformat_minor": 2
}
