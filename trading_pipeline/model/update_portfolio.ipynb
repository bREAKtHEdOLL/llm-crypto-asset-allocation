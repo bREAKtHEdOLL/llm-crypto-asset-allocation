{
 "cells": [
  {
   "cell_type": "code",
   "execution_count": 1,
   "metadata": {},
   "outputs": [],
   "source": [
    "import pandas as pd"
   ]
  },
  {
   "cell_type": "code",
   "execution_count": null,
   "metadata": {},
   "outputs": [],
   "source": [
    "# TODO: Params to tune -> (1) max_buy_ratio, (2) sell_strength\n",
    "\n",
    "def update_portfolio(current_portfolio: dict, scores: dict, prices: dict, max_buy_ratio: float=0.1, sell_strength: float = 0.25) -> dict:\n",
    "    \"\"\"\n",
    "    Update the portfolio allocation based on model scores and current prices.\n",
    "\n",
    "    Args:\n",
    "        current_portfolio (dict): Holdings in units, e.g. {\"BTC\": 0.3, \"ETH\": 1.2, ...}\n",
    "        scores (dict): Model-generated allocation scores in [-1.0, 1.0] per token\n",
    "        prices (dict): Current token prices in USD per unit\n",
    "        max_buy_ratio (float): Max% of total portfolio value to reallocate this hour (buy tokens) (每小时可以用来买入的资金最多是总资产的10%)\n",
    "        sell_strength (float): Percentage of holdings to sell per unit of negative score\n",
    "    \n",
    "    Returns:\n",
    "        dict: Updated portfolio (new quantites per asset)\n",
    "    \"\"\"\n",
    "    updated_portfolio = current_portfolio.copy()\n",
    "    tokens = [\"BTC\", \"ETH\", \"SOL\", \"DOGE\", \"USDT\"]\n",
    "\n",
    "    # 1. Reduce holdings for negative scores (if we hold any)\n",
    "    for token, score in scores.items():\n",
    "        if token == [\"USDT\"]:\n",
    "            continue    # 如果有positive score的话, 我们本来就是会花钱买这个token，usdt就算是负的话也不需要卖掉的    # USDT是资产池，不管score是什么都不要主动卖出它\n",
    "        if score < 0 and updated_portfolio[token] > 0:\n",
    "            sell_ratio = sell_strength * abs(score)   # Calculate how much to sell based on score and sell_strength\n",
    "            quantity_to_sell = updated_portfolio[token] * sell_ratio    # Sell a portion of that token\n",
    "            updated_portfolio[token] -= quantity_to_sell    # Reduce holdings for sold token\n",
    "            updated_portfolio[\"USDT\"] += (quantity_to_sell * prices[token]) / prices[\"USDT\"]  # Add USDT from sale\n",
    "\n",
    "    # 2. Compute total current portfolio value (in USD)\n",
    "    total_current_value = sum(updated_portfolio[token] * prices[token] for token in tokens)\n",
    "\n",
    "    # 3. Compute max USD capital to buy this hour\n",
    "    max_capital_to_buy = total_current_value * max_buy_ratio    # ***\n",
    "\n",
    "    # 4. Positive scores -> buy new capital proportianlly\n",
    "    positive_scores = {token: score for token, score in scores.items() if score > 0}\n",
    "    total_score_positive = sum(positive_scores.values())\n",
    "\n",
    "    if total_score_positive > 0:\n",
    "        weights = {token: score / total_score_positive for token, score in positive_scores.items()}\n",
    "        target_usd_allocation = {token: max_capital_to_buy * weight for token, weight in weights.items()}\n",
    "        total_needed_usdt_value = sum(target_usd_allocation.values())\n",
    "        available_usdt_value = updated_portfolio[\"USDT\"] * prices[\"USDT\"]\n",
    "\n",
    "        # Scale = 1.0 if enough USDT, otherwise scale down proportionally\n",
    "        scale = min(1.0, available_usdt_value / total_needed_usdt_value) if total_needed_usdt_value > 0 else 0.0\n",
    "\n",
    "        for token, target_value in target_usd_allocation.items():\n",
    "            adjusted_target_value = target_value * scale\n",
    "            units_to_buy = adjusted_target_value / prices[token]  # Purchase assets (using USDT)\n",
    "            updated_portfolio[token] += units_to_buy    \n",
    "            updated_portfolio[\"USDT\"] -= adjusted_target_value / prices[\"USDT\"]    # Deduct USDT used for purchase\n",
    "            updated_portfolio[\"USDT\"] = max(updated_portfolio[\"USDT\"], 0)    # Ensure USDT doesn't go negative\n",
    "    \n",
    "    return updated_portfolio"
   ]
  },
  {
   "cell_type": "markdown",
   "metadata": {},
   "source": [
    "## Testing (the second attempt is the modified version)"
   ]
  },
  {
   "cell_type": "code",
   "execution_count": null,
   "metadata": {},
   "outputs": [
    {
     "data": {
      "text/plain": [
       "{'BTC': 0.85, 'ETH': 2.0, 'SOL': 39.6, 'DOGE': 4400.0, 'USDT': 10100.0}"
      ]
     },
     "execution_count": 14,
     "metadata": {},
     "output_type": "execute_result"
    }
   ],
   "source": [
    "# Test 1\n",
    "current_portfolio = {\n",
    "    \"BTC\": 1.0,\n",
    "    \"ETH\": 2.0,\n",
    "    \"SOL\": 0.0,\n",
    "    \"DOGE\": 0.0,\n",
    "    \"USDT\": 10000.0\n",
    "}\n",
    "\n",
    "prices = {\n",
    "    \"BTC\": 30000,\n",
    "    \"ETH\": 2000,\n",
    "    \"SOL\": 100,\n",
    "    \"DOGE\": 0.1,\n",
    "    \"USDT\": 1.0\n",
    "}\n",
    "scores = {\n",
    "    \"BTC\": -0.6,\n",
    "    \"ETH\": 0.0,\n",
    "    \"SOL\": +0.9,\n",
    "    \"DOGE\": +0.1,\n",
    "    \"USDT\": -1.0\n",
    "}\n",
    "\n",
    "updated_portfolio = update_portfolio(current_portfolio=current_portfolio, scores=scores, prices=prices, max_buy_ratio=0.1, sell_strength=0.25)\n",
    "updated_portfolio"
   ]
  },
  {
   "cell_type": "code",
   "execution_count": 27,
   "metadata": {},
   "outputs": [
    {
     "data": {
      "text/plain": [
       "{'BTC': 0.85, 'ETH': 2.0, 'SOL': 39.6, 'DOGE': 4400.0, 'USDT': 10100.0}"
      ]
     },
     "execution_count": 27,
     "metadata": {},
     "output_type": "execute_result"
    }
   ],
   "source": [
    "# Test 1\n",
    "current_portfolio = {\n",
    "    \"BTC\": 1.0,\n",
    "    \"ETH\": 2.0,\n",
    "    \"SOL\": 0.0,\n",
    "    \"DOGE\": 0.0,\n",
    "    \"USDT\": 10000.0\n",
    "}\n",
    "\n",
    "prices = {\n",
    "    \"BTC\": 30000,\n",
    "    \"ETH\": 2000,\n",
    "    \"SOL\": 100,\n",
    "    \"DOGE\": 0.1,\n",
    "    \"USDT\": 1.0\n",
    "}\n",
    "scores = {\n",
    "    \"BTC\": -0.6,\n",
    "    \"ETH\": 0.0,\n",
    "    \"SOL\": +0.9,\n",
    "    \"DOGE\": +0.1,\n",
    "    \"USDT\": -1.0\n",
    "}\n",
    "\n",
    "updated_portfolio = update_portfolio(current_portfolio=current_portfolio, scores=scores, prices=prices, max_buy_ratio=0.1, sell_strength=0.25)\n",
    "updated_portfolio"
   ]
  },
  {
   "cell_type": "code",
   "execution_count": 15,
   "metadata": {},
   "outputs": [
    {
     "data": {
      "text/plain": [
       "{'BTC': 0.014, 'ETH': 0.15, 'SOL': 0.0, 'DOGE': 0.0, 'USDT': 9000.0}"
      ]
     },
     "execution_count": 15,
     "metadata": {},
     "output_type": "execute_result"
    }
   ],
   "source": [
    "# Test 2: Only buy in\n",
    "current_portfolio = {\n",
    "    \"BTC\": 0.0,\n",
    "    \"ETH\": 0.0,\n",
    "    \"SOL\": 0.0,\n",
    "    \"DOGE\": 0.0,\n",
    "    \"USDT\": 10000.0\n",
    "}\n",
    "\n",
    "prices = {\n",
    "    \"BTC\": 50000,\n",
    "    \"ETH\": 2000,\n",
    "    \"SOL\": 100,\n",
    "    \"DOGE\": 0.1,\n",
    "    \"USDT\": 1.0\n",
    "}\n",
    "\n",
    "scores = {\n",
    "    \"BTC\": +0.7,\n",
    "    \"ETH\": +0.3,\n",
    "    \"SOL\": 0.0,\n",
    "    \"DOGE\": 0.0,\n",
    "    \"USDT\": 0.0\n",
    "}\n",
    "\n",
    "updated_portfolio = update_portfolio(current_portfolio=current_portfolio, scores=scores, prices=prices, max_buy_ratio=0.1, sell_strength=0.25)\n",
    "updated_portfolio"
   ]
  },
  {
   "cell_type": "code",
   "execution_count": 28,
   "metadata": {},
   "outputs": [
    {
     "data": {
      "text/plain": [
       "{'BTC': 0.014, 'ETH': 0.15, 'SOL': 0.0, 'DOGE': 0.0, 'USDT': 9000.0}"
      ]
     },
     "execution_count": 28,
     "metadata": {},
     "output_type": "execute_result"
    }
   ],
   "source": [
    "# Test 2: Only buy in\n",
    "current_portfolio = {\n",
    "    \"BTC\": 0.0,\n",
    "    \"ETH\": 0.0,\n",
    "    \"SOL\": 0.0,\n",
    "    \"DOGE\": 0.0,\n",
    "    \"USDT\": 10000.0\n",
    "}\n",
    "\n",
    "prices = {\n",
    "    \"BTC\": 50000,\n",
    "    \"ETH\": 2000,\n",
    "    \"SOL\": 100,\n",
    "    \"DOGE\": 0.1,\n",
    "    \"USDT\": 1.0\n",
    "}\n",
    "\n",
    "scores = {\n",
    "    \"BTC\": +0.7,\n",
    "    \"ETH\": +0.3,\n",
    "    \"SOL\": 0.0,\n",
    "    \"DOGE\": 0.0,\n",
    "    \"USDT\": 0.0\n",
    "}\n",
    "\n",
    "updated_portfolio = update_portfolio(current_portfolio=current_portfolio, scores=scores, prices=prices, max_buy_ratio=0.1, sell_strength=0.25)\n",
    "updated_portfolio"
   ]
  },
  {
   "cell_type": "code",
   "execution_count": 16,
   "metadata": {},
   "outputs": [
    {
     "data": {
      "text/plain": [
       "{'BTC': 0.35000000000000003,\n",
       " 'ETH': 1.5,\n",
       " 'SOL': 0.0,\n",
       " 'DOGE': 0.0,\n",
       " 'USDT': 4000.0}"
      ]
     },
     "execution_count": 16,
     "metadata": {},
     "output_type": "execute_result"
    }
   ],
   "source": [
    "# Test 3: Only sell \n",
    "current_portfolio = {\n",
    "    \"BTC\": 0.4,\n",
    "    \"ETH\": 2.0,\n",
    "    \"SOL\": 0.0,\n",
    "    \"DOGE\": 0.0,\n",
    "    \"USDT\": 0.0\n",
    "}\n",
    "\n",
    "prices = {\n",
    "    \"BTC\": 60000,\n",
    "    \"ETH\": 2000,\n",
    "    \"SOL\": 100,\n",
    "    \"DOGE\": 0.1,\n",
    "    \"USDT\": 1.0\n",
    "}\n",
    "\n",
    "scores = {\n",
    "    \"BTC\": -0.5,\n",
    "    \"ETH\": -1.0,\n",
    "    \"SOL\": 0.0,\n",
    "    \"DOGE\": 0.0,\n",
    "    \"USDT\": 0.0\n",
    "}\n",
    "\n",
    "updated_portfolio = update_portfolio(current_portfolio=current_portfolio, scores=scores, prices=prices, max_buy_ratio=0.1, sell_strength=0.25)\n",
    "updated_portfolio"
   ]
  },
  {
   "cell_type": "code",
   "execution_count": 29,
   "metadata": {},
   "outputs": [
    {
     "data": {
      "text/plain": [
       "{'BTC': 0.35000000000000003,\n",
       " 'ETH': 1.5,\n",
       " 'SOL': 0.0,\n",
       " 'DOGE': 0.0,\n",
       " 'USDT': 4000.0}"
      ]
     },
     "execution_count": 29,
     "metadata": {},
     "output_type": "execute_result"
    }
   ],
   "source": [
    "# Test 3: Only sell \n",
    "current_portfolio = {\n",
    "    \"BTC\": 0.4,\n",
    "    \"ETH\": 2.0,\n",
    "    \"SOL\": 0.0,\n",
    "    \"DOGE\": 0.0,\n",
    "    \"USDT\": 0.0\n",
    "}\n",
    "\n",
    "prices = {\n",
    "    \"BTC\": 60000,\n",
    "    \"ETH\": 2000,\n",
    "    \"SOL\": 100,\n",
    "    \"DOGE\": 0.1,\n",
    "    \"USDT\": 1.0\n",
    "}\n",
    "\n",
    "scores = {\n",
    "    \"BTC\": -0.5,\n",
    "    \"ETH\": -1.0,\n",
    "    \"SOL\": 0.0,\n",
    "    \"DOGE\": 0.0,\n",
    "    \"USDT\": 0.0\n",
    "}\n",
    "\n",
    "updated_portfolio = update_portfolio(current_portfolio=current_portfolio, scores=scores, prices=prices, max_buy_ratio=0.1, sell_strength=0.25)\n",
    "updated_portfolio"
   ]
  },
  {
   "cell_type": "code",
   "execution_count": null,
   "metadata": {},
   "outputs": [
    {
     "data": {
      "text/plain": [
       "{'BTC': 1.0, 'ETH': 1.0, 'SOL': 1.0, 'DOGE': 0.0, 'USDT': 0.0}"
      ]
     },
     "execution_count": 17,
     "metadata": {},
     "output_type": "execute_result"
    }
   ],
   "source": [
    "# Test 4: Not enough USDT to buy (usd all USDT available)\n",
    "current_portfolio = {\n",
    "    \"BTC\": 1.0,\n",
    "    \"ETH\": 1.0,\n",
    "    \"SOL\": 0.0,\n",
    "    \"DOGE\": 0.0,\n",
    "    \"USDT\": 100.0\n",
    "}\n",
    "\n",
    "prices = {\n",
    "    \"BTC\": 50000,\n",
    "    \"ETH\": 2000,\n",
    "    \"SOL\": 100,\n",
    "    \"DOGE\": 0.1,\n",
    "    \"USDT\": 1.0\n",
    "}\n",
    "\n",
    "scores = {\n",
    "    \"BTC\": 0.0,\n",
    "    \"ETH\": 0.0,\n",
    "    \"SOL\": +0.8,\n",
    "    \"DOGE\": +0.2,\n",
    "    \"USDT\": 0.0\n",
    "}\n",
    "\n",
    "updated_portfolio = update_portfolio(current_portfolio=current_portfolio, scores=scores, prices=prices, max_buy_ratio=0.1, sell_strength=0.25)\n",
    "updated_portfolio"
   ]
  },
  {
   "cell_type": "code",
   "execution_count": 30,
   "metadata": {},
   "outputs": [
    {
     "data": {
      "text/plain": [
       "{'BTC': 1.0, 'ETH': 1.0, 'SOL': 0.8, 'DOGE': 200.0, 'USDT': 0.0}"
      ]
     },
     "execution_count": 30,
     "metadata": {},
     "output_type": "execute_result"
    }
   ],
   "source": [
    "# Test 4: Not enough USDT to buy (usd all USDT available)\n",
    "current_portfolio = {\n",
    "    \"BTC\": 1.0,\n",
    "    \"ETH\": 1.0,\n",
    "    \"SOL\": 0.0,\n",
    "    \"DOGE\": 0.0,\n",
    "    \"USDT\": 100.0\n",
    "}\n",
    "\n",
    "prices = {\n",
    "    \"BTC\": 50000,\n",
    "    \"ETH\": 2000,\n",
    "    \"SOL\": 100,\n",
    "    \"DOGE\": 0.1,\n",
    "    \"USDT\": 1.0\n",
    "}\n",
    "\n",
    "scores = {\n",
    "    \"BTC\": 0.0,\n",
    "    \"ETH\": 0.0,\n",
    "    \"SOL\": +0.8,\n",
    "    \"DOGE\": +0.2,\n",
    "    \"USDT\": 0.0\n",
    "}\n",
    "\n",
    "updated_portfolio = update_portfolio(current_portfolio=current_portfolio, scores=scores, prices=prices, max_buy_ratio=0.1, sell_strength=0.25)\n",
    "updated_portfolio"
   ]
  },
  {
   "cell_type": "code",
   "execution_count": null,
   "metadata": {},
   "outputs": [],
   "source": []
  },
  {
   "cell_type": "code",
   "execution_count": null,
   "metadata": {},
   "outputs": [],
   "source": []
  }
 ],
 "metadata": {
  "kernelspec": {
   "display_name": "base",
   "language": "python",
   "name": "python3"
  },
  "language_info": {
   "codemirror_mode": {
    "name": "ipython",
    "version": 3
   },
   "file_extension": ".py",
   "mimetype": "text/x-python",
   "name": "python",
   "nbconvert_exporter": "python",
   "pygments_lexer": "ipython3",
   "version": "3.9.18"
  }
 },
 "nbformat": 4,
 "nbformat_minor": 2
}
